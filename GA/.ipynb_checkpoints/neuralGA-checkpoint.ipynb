{
 "cells": [
  {
   "cell_type": "code",
   "execution_count": 24,
   "metadata": {},
   "outputs": [
    {
     "name": "stdout",
     "output_type": "stream",
     "text": [
      "(60000, 784)\n",
      "(60000, 10)\n"
     ]
    }
   ],
   "source": [
    "import numpy as np\n",
    "import tensorflow as tf\n",
    "from keras.models import Sequential\n",
    "from keras.layers import Dense\n",
    "from keras.utils.np_utils import to_categorical\n",
    "\n",
    "mnist = tf.keras.datasets.mnist\n",
    "\n",
    "(x_train,y_train),(x_test,y_test) = mnist.load_data()\n",
    "\n",
    "x_train = x_train.reshape(60000, 784)\n",
    "y_train = to_categorical(y_train, 10)\n",
    "x_train = x_train/255\n",
    "\n",
    "print(x_train.shape)\n",
    "print(y_train.shape)\n"
   ]
  },
  {
   "cell_type": "code",
   "execution_count": 44,
   "metadata": {},
   "outputs": [
    {
     "name": "stdout",
     "output_type": "stream",
     "text": [
      "0.6656144634338995\n"
     ]
    }
   ],
   "source": [
    "class Network:\n",
    "      \n",
    "    # A1 = 32*784, b1 = 32, A2 = 10x32, b2 = 10\n",
    "    def __init__ (self, x_train, y_train, A1=None, b1=None, A2 = None, b2 = None):\n",
    "        self.A1 = A1\n",
    "        self.b1 = b1\n",
    "        self.A2 = A2\n",
    "        self.b2 = b2\n",
    "        self.x_train = x_train\n",
    "        self.y_train = y_train\n",
    "\n",
    "    def random_weights(self):\n",
    "        self.A1 = np.random.normal(0, 1, (32, 784))\n",
    "        self.b1 = np.random.normal(0, 1, 32)\n",
    "        self.A2 = np.random.normal(0, 1, (10, 32))\n",
    "        self.b2 = np.random.normal(0, 1, 10)   \n",
    "        \n",
    "    def fitness_val(self):\n",
    "        \n",
    "        loss = 0\n",
    "        for i, x in enumerate(x_train):\n",
    "            x = Network.sigmoidal(self.A1.dot(x)+self.b1)\n",
    "            y_pred = Network.softmax(self.A2.dot(x)+self.b2)\n",
    "            \n",
    "            y_true = y_train[i]\n",
    "            loss += 1/2*np.sum((y_true-y_pred)**2)\n",
    "        return loss/x_train.shape[0]\n",
    "\n",
    "    def sigmoidal(x):\n",
    "        return 1/(1+(np.exp(-x)))\n",
    "    \n",
    "    def softmax(x):\n",
    "        return np.exp(x)/np.sum(np.exp(x))\n",
    "\n",
    "def crossover_and_mutate(network1, network2):\n",
    "    \n",
    "    A1 = np.zeros((32, 784))\n",
    "    b1 = np.zeros(32)\n",
    "    A2 = np.zeros((10,32))\n",
    "    b2 = np.zeros(10)\n",
    "    \n",
    "    for i in range(32):\n",
    "        b1[i] = network1.b1[i] if np.random.rand(1) < 0.5 else network2.b1[i]\n",
    "        if np.random.rand(1) <= 0.02:\n",
    "                b1[i] += np.random.normal(0, 10)\n",
    "        for j in range(784):\n",
    "            A1[i,j] = network1.A1[i,j] if np.random.rand(1) < 0.5 else network2.A1[i,j]\n",
    "            if np.random.rand(1) <= 0.02:\n",
    "                A1[i,j] += np.random.normal(0, 10)\n",
    "    \n",
    "    for i in range(10):\n",
    "        b2[i] = network1.b2[i] if np.random.rand(1) < 0.5 else network2.b2[i]\n",
    "        if np.random.rand(1) <= 0.02:\n",
    "            b2[i] += np.random.normal(0,10)\n",
    "        \n",
    "        for j in range(32):\n",
    "            A2[i,j] = network1.A2[i,j] if np.random.rand(1) < 0.5 else network2.A2[i,j]\n",
    "            if np.random.rand(1) <= 0.02:\n",
    "                A2[i,j] += np.random.normal(0, 10)\n",
    "            \n",
    "    \n",
    "    \n",
    "    \n",
    "            \n",
    "    \n",
    "            \n",
    "        \n",
    "network = Network(x_train, y_train)\n",
    "network.random_weights()\n",
    "loss =  network.fitness_val()\n",
    "        \n",
    "        "
   ]
  },
  {
   "cell_type": "code",
   "execution_count": 45,
   "metadata": {},
   "outputs": [
    {
     "ename": "SyntaxError",
     "evalue": "unexpected EOF while parsing (<ipython-input-45-ad175740665d>, line 2)",
     "output_type": "error",
     "traceback": [
      "\u001b[0;36m  File \u001b[0;32m\"<ipython-input-45-ad175740665d>\"\u001b[0;36m, line \u001b[0;32m2\u001b[0m\n\u001b[0;31m    def softmax(x):\u001b[0m\n\u001b[0m                   ^\u001b[0m\n\u001b[0;31mSyntaxError\u001b[0m\u001b[0;31m:\u001b[0m unexpected EOF while parsing\n"
     ]
    }
   ],
   "source": [
    "x = np.random.normal(0,1, 32)\n",
    "def softmax(x):\n"
   ]
  },
  {
   "cell_type": "code",
   "execution_count": 50,
   "metadata": {},
   "outputs": [
    {
     "data": {
      "text/plain": [
       "array([False])"
      ]
     },
     "execution_count": 50,
     "metadata": {},
     "output_type": "execute_result"
    }
   ],
   "source": [
    "np.random.rand(1) < 0.5"
   ]
  },
  {
   "cell_type": "code",
   "execution_count": null,
   "metadata": {},
   "outputs": [],
   "source": []
  },
  {
   "cell_type": "code",
   "execution_count": null,
   "metadata": {},
   "outputs": [],
   "source": []
  }
 ],
 "metadata": {
  "kernelspec": {
   "display_name": "Python 3",
   "language": "python",
   "name": "python3"
  },
  "language_info": {
   "codemirror_mode": {
    "name": "ipython",
    "version": 3
   },
   "file_extension": ".py",
   "mimetype": "text/x-python",
   "name": "python",
   "nbconvert_exporter": "python",
   "pygments_lexer": "ipython3",
   "version": "3.7.0"
  }
 },
 "nbformat": 4,
 "nbformat_minor": 2
}
